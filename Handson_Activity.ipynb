{
 "cells": [
  {
   "cell_type": "markdown",
   "metadata": {
    "id": "UdNeen_RUdJ1"
   },
   "source": [
    "# <center style = \"text-align: center; font-family: 'Georgia', serif; font-size: 36px\">👾 ChatGPyThon 🐍</center>\n"
   ]
  },
  {
   "cell_type": "markdown",
   "metadata": {
    "id": "kQSKuTrgWMr8"
   },
   "source": [
    "<span style=\"font-family: Georgia; font-size:16px\">In this hands-on exercise, you will be learning how to use chatGPT to assist us in performing 3 tasks:\n",
    "    \n",
    "    1. Data Wrangling\n",
    "    2. Data Visualization\n",
    "</span>"
   ]
  },
  {
   "cell_type": "code",
   "execution_count": null,
   "metadata": {
    "colab": {
     "base_uri": "https://localhost:8080/"
    },
    "executionInfo": {
     "elapsed": 185925,
     "status": "ok",
     "timestamp": 1709537342807,
     "user": {
      "displayName": "YuChern :3",
      "userId": "00368097751115461370"
     },
     "user_tz": -480
    },
    "id": "l5R-9E0HUedL",
    "outputId": "82ed8447-f0d8-4315-99b6-a0770e8ddd30"
   },
   "outputs": [
    {
     "name": "stdout",
     "output_type": "stream",
     "text": [
      "Mounted at /content/drive\n"
     ]
    }
   ],
   "source": [
    "# # Run this Cell\n",
    "# from google.colab import drive\n",
    "# drive.mount('/content/drive')"
   ]
  },
  {
   "cell_type": "code",
   "execution_count": null,
   "metadata": {
    "id": "ne72OpqwWUbE"
   },
   "outputs": [],
   "source": [
    "import pandas as pd\n",
    "import numpy as np\n",
    "import matplotlib.pyplot as plt"
   ]
  },
  {
   "cell_type": "markdown",
   "metadata": {
    "id": "bAFaQGFyYJNm"
   },
   "source": [
    "# Task 1: Read the data"
   ]
  },
  {
   "cell_type": "markdown",
   "metadata": {
    "id": "4Q-pOPisYJYb"
   },
   "source": [
    "<span style=\"font-family: Georgia; font-size:16px\">Your first task is to load the csv file, \"hdb_resale.csv\". The dataframe should be named df.\n",
    "<details>\n",
    "<summary>Click here for Prompt</summary>\n",
    "\"I have a csv file named \"hdb_resale.csv\". Using python, read this file as a dataframe named df.\"</details></span>\n"
   ]
  },
  {
   "cell_type": "code",
   "execution_count": null,
   "metadata": {
    "id": "fqXHNUPYYIqL"
   },
   "outputs": [],
   "source": [
    "## INSERT CODE BELOW ##\n",
    "\n"
   ]
  },
  {
   "cell_type": "code",
   "execution_count": null,
   "metadata": {
    "id": "-njReLQFYdNM"
   },
   "outputs": [],
   "source": [
    "# run to view the first 5 rows of the data.\n",
    "display(df)"
   ]
  },
  {
   "cell_type": "markdown",
   "metadata": {
    "id": "Xq2jqCWSYe1F"
   },
   "source": [
    "<span style=\"font-family: Georgia; font-size:16px\">The first 5 rows of the data should look like this:\n",
    "\n",
    "| month   | town       | flat_type   |   block | street_name       | storey_range   |   floor_area_sqm | flat_model     |   lease_commence_date | remaining_lease    |   resale_price |\n",
    "|:--------|:-----------|:------------|--------:|:------------------|:---------------|-----------------:|:---------------|----------------------:|:-------------------|---------------:|\n",
    "| 2017-01 | ANG MO KIO | 2 ROOM      |     406 | ANG MO KIO AVE 10 | 10 TO 12       |               44 | Improved       |                  1979 | 61 years 04 months |         232000 |\n",
    "| 2017-01 | ANG MO KIO | 3 ROOM      |     108 | ANG MO KIO AVE 4  | 01 TO 03       |               67 | New Generation |                  1978 | 60 years 07 months |         250000 |\n",
    "| 2017-01 | ANG MO KIO | 3 ROOM      |     602 | ANG MO KIO AVE 5  | 01 TO 03       |               67 | New Generation |                  1980 | 62 years 05 months |         262000 |\n",
    "| 2017-01 | ANG MO KIO | 3 ROOM      |     465 | ANG MO KIO AVE 10 | 04 TO 06       |               68 | New Generation |                  1980 | 62 years 01 month  |         265000 |\n",
    "| 2017-01 | ANG MO KIO | 3 ROOM      |     601 | ANG MO KIO AVE 5  | 01 TO 03       |               67 | New Generation |                  1980 | 62 years 05 months |         265000 |\n",
    "    \n",
    "Hint: If there is an error, make sure your dataframe is named df"
   ]
  },
  {
   "cell_type": "markdown",
   "metadata": {
    "id": "1eOsljJJYnbN"
   },
   "source": [
    "# Task 2: Prepare the Data"
   ]
  },
  {
   "cell_type": "markdown",
   "metadata": {
    "id": "tANVV8C5Y8I0"
   },
   "source": [
    "## a. Check for missing values"
   ]
  },
  {
   "cell_type": "markdown",
   "metadata": {
    "id": "OQnPEePhY2Hb"
   },
   "source": [
    "<span style=\"font-family: Georgia; font-size:16px\">The first step before exploring the data, would be to check if there are missing values. Prompt ChatGPT to provide the code to check if there are missing values in the data.\n",
    "<details>\n",
    "<summary>Click here for Prompt</summary>    \n",
    "    \"Provide the code to check if my dataframe, df, has any missing values.\"</details>"
   ]
  },
  {
   "cell_type": "code",
   "execution_count": null,
   "metadata": {
    "id": "m6hoasquYuiM"
   },
   "outputs": [],
   "source": [
    "## INSERT CODE BELOW ##\n",
    "\n"
   ]
  },
  {
   "cell_type": "markdown",
   "metadata": {
    "id": "D2JFXeYiZBhu"
   },
   "source": [
    "## b. Remove Missing Values"
   ]
  },
  {
   "cell_type": "markdown",
   "metadata": {
    "id": "fliUb2CDZBnL"
   },
   "source": [
    "<span style=\"font-family: Georgia; font-size:16px\">There are missing values in our dataframe. One common way to deal with them is to remove the row where there are missing values.\n",
    "<details>\n",
    "<summary>Click here for Prompt</summary>    \n",
    "\"Provide the code to remove all rows in my dataframe, df, where there are missing values. Replace the old dataframe, df.\"</details>"
   ]
  },
  {
   "cell_type": "code",
   "execution_count": null,
   "metadata": {
    "id": "feAloCdNZBwD"
   },
   "outputs": [],
   "source": [
    "## INSERT CODE BELOW ##\n",
    "\n"
   ]
  },
  {
   "cell_type": "markdown",
   "metadata": {
    "id": "dEs76n-2ZNk-"
   },
   "source": [
    "## c. Check for missing values again"
   ]
  },
  {
   "cell_type": "markdown",
   "metadata": {
    "id": "PcKmhFHXZNvv"
   },
   "source": [
    "<span style=\"font-family: Georgia; font-size:16px\"> Copy and paste your previous code below to check for missing values again."
   ]
  },
  {
   "cell_type": "code",
   "execution_count": null,
   "metadata": {
    "id": "FEiq_fiHY7Z8"
   },
   "outputs": [],
   "source": [
    "## INSERT CODE BELOW ##\n"
   ]
  },
  {
   "cell_type": "markdown",
   "metadata": {
    "id": "mC0H3UgBZVHK"
   },
   "source": [
    "## d. Convert month to DateTime"
   ]
  },
  {
   "cell_type": "markdown",
   "metadata": {
    "id": "FBdo_yUCZetG"
   },
   "source": [
    "<span style=\"font-family: Georgia; font-size:16px\">The data is being read as strings and integers. We have a column in the dataframe, month, that can be converted to datetime. This allows us to make use of the datetime to perform time series analysis.\n",
    "<details>\n",
    "<summary>Click here for Prompt</summary>    \n",
    "    My dataframe, df, has a column name 'month' with the format '2017-01'. Provide the code for me to covnert it to datetime format.</details>"
   ]
  },
  {
   "cell_type": "code",
   "execution_count": null,
   "metadata": {
    "id": "mbtvcR_JZUch"
   },
   "outputs": [],
   "source": [
    "## INSERT CODE BELOW ##\n"
   ]
  },
  {
   "cell_type": "markdown",
   "metadata": {
    "id": "6kB97afGZz_B"
   },
   "source": [
    "## e. Resale Price per Square Meter"
   ]
  },
  {
   "cell_type": "markdown",
   "metadata": {
    "id": "divKvqujZ0JY"
   },
   "source": [
    "<span style=\"font-family: Georgia; font-size:16px\">Resale price is highly dependent on the size of the flat. Create a calculated field, Resale Price per Square Meter that simply takes the resale_price of the flat and divides it by the floor_area_sqm. Name the new column resale_price_psqm\n",
    "\n",
    "<details>\n",
    "<summary>Click here for Prompt</summary>\n",
    "I have 2 columns, resale_price and floor_area_sqm. I want to create a calculated field, resale_price_psqm that takes the resale_price and divides it by floor_area_sqm."
   ]
  },
  {
   "cell_type": "code",
   "execution_count": null,
   "metadata": {
    "id": "CAzy92tgZd7Q"
   },
   "outputs": [],
   "source": [
    "## INSERT CODE BELOW ##\n"
   ]
  },
  {
   "cell_type": "markdown",
   "metadata": {
    "id": "jUv1Mc7jZ9BD"
   },
   "source": [
    "# Task 3: Data Visualization"
   ]
  },
  {
   "cell_type": "markdown",
   "metadata": {
    "id": "XTaZ0NZEZ9Jn"
   },
   "source": [
    "## a. Distribution of Resale Prices"
   ]
  },
  {
   "cell_type": "markdown",
   "metadata": {
    "id": "IAx2Nc89aESG"
   },
   "source": [
    "<span style=\"font-family: Georgia; font-size:16px\">Let's view the distribution of prices of the resale HDBs. One method would be to use a histogram. Prompt chatGPT to provide the code to plot a histogram for the distribution of resale flat prices.\n",
    "    \n",
    "Note: resale_price not resale_price_psqm\n",
    "\n",
    "<details>\n",
    "<summary>Click here for Prompt</summary>\n",
    "    I have a dataframe, df, with a column 'resale_price'. Plot a histogram of the distribution of resale prices."
   ]
  },
  {
   "cell_type": "code",
   "execution_count": null,
   "metadata": {
    "id": "8WCEZt_YZ9ar"
   },
   "outputs": [],
   "source": [
    "## INSERT CODE BELOW ##\n"
   ]
  },
  {
   "cell_type": "markdown",
   "metadata": {
    "id": "sCdK6_kfaJYC"
   },
   "source": [
    "## b. HDB Prices across Time"
   ]
  },
  {
   "cell_type": "markdown",
   "metadata": {
    "id": "k5IPrqO9aJf7"
   },
   "source": [
    "<span style=\"font-family: Georgia; font-size:16px\">We know that HDB prices are getting extremely high recently. Let's try and observe that trend with a line graph. Plot a line graph with the X-axis being as the month column and y-axis as the average resale_price column.\n",
    "\n",
    "<details>\n",
    "<summary>Click here for Prompt</summary>\n",
    "I have a dataframe, df, with 2 columns, 'month' and 'resale_price'. Plot a line graph to show the average resale price by month."
   ]
  },
  {
   "cell_type": "code",
   "execution_count": null,
   "metadata": {
    "id": "7-poEmEMaJvF"
   },
   "outputs": [],
   "source": [
    "## INSERT CODE BELOW ##\n"
   ]
  },
  {
   "cell_type": "markdown",
   "metadata": {
    "id": "bA4QMRkLaNva"
   },
   "source": [
    "# c. HDB Prices by Town"
   ]
  },
  {
   "cell_type": "markdown",
   "metadata": {
    "id": "2S6jRnljaN2b"
   },
   "source": [
    "<span style=\"font-family: Georgia; font-size:16px\">Let's view the average hdb prices for each town. Ask chatGPT to plot a bar chart of the average resale price vs by town. X-axis consist of the towns, while the y-axis is the average resale_price. Sort the bars from most expensive to least expensive.\n",
    "\n",
    "<details>\n",
    "<summary>Click here for Prompt</summary>\n",
    "I have a dataframe, df, with 2 columns, resale_price and town. I want to plot a bar chart of the average resale price by town from the most expensive to the least expensive."
   ]
  },
  {
   "cell_type": "code",
   "execution_count": null,
   "metadata": {
    "id": "uqrbJIQGaOBt"
   },
   "outputs": [],
   "source": [
    "## INSERT CODE BELOW ##\n"
   ]
  },
  {
   "cell_type": "markdown",
   "metadata": {
    "id": "1nhKU9xQaYzQ"
   },
   "source": [
    "## d. HDB Price per sqm by Town"
   ]
  },
  {
   "cell_type": "markdown",
   "metadata": {
    "id": "GpPebm8kaY5b"
   },
   "source": [
    "<span style=\"font-family: Georgia; font-size:16px\">Looking at the graph above, we see that simple looking at the flat value does not paint a full picture. Look at Bishan and Ang Mo Kio. They are next to each other but yet, their resale value is so much different. Let's see if using resale_price_psqm would solve this problem. Ask chatGPT to plot a bar chart of the average resale_price_psqm vs by town. X-axis consist of the towns, while the y-axis is the average resale_price_psqm. Sort the bars from most expensive to least expensive.\n",
    "\n",
    "<details>\n",
    "<summary>Click here for Prompt</summary>\n",
    "    I have a dataframe, df, with 2 columns, resale_price_psqm and town. I want to plot a bar chart of the average resale price by town from the most expensive to the least expensive."
   ]
  },
  {
   "cell_type": "code",
   "execution_count": null,
   "metadata": {
    "id": "pVv5sy9RaZCm"
   },
   "outputs": [],
   "source": [
    "## INSERT CODE BELOW ##\n"
   ]
  }
 ],
 "metadata": {
  "colab": {
   "provenance": []
  },
  "kernelspec": {
   "display_name": "Python 3",
   "language": "python",
   "name": "python3"
  },
  "language_info": {
   "codemirror_mode": {
    "name": "ipython",
    "version": 3
   },
   "file_extension": ".py",
   "mimetype": "text/x-python",
   "name": "python",
   "nbconvert_exporter": "python",
   "pygments_lexer": "ipython3",
   "version": "3.7.6"
  }
 },
 "nbformat": 4,
 "nbformat_minor": 1
}
